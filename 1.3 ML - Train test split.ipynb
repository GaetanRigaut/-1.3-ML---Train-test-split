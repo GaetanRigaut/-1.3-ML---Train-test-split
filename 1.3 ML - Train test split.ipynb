{
 "cells": [
  {
   "cell_type": "code",
   "execution_count": 3,
   "metadata": {},
   "outputs": [
    {
     "data": {
      "text/html": [
       "<div>\n",
       "<style scoped>\n",
       "    .dataframe tbody tr th:only-of-type {\n",
       "        vertical-align: middle;\n",
       "    }\n",
       "\n",
       "    .dataframe tbody tr th {\n",
       "        vertical-align: top;\n",
       "    }\n",
       "\n",
       "    .dataframe thead th {\n",
       "        text-align: right;\n",
       "    }\n",
       "</style>\n",
       "<table border=\"1\" class=\"dataframe\">\n",
       "  <thead>\n",
       "    <tr style=\"text-align: right;\">\n",
       "      <th></th>\n",
       "      <th>DATE</th>\n",
       "      <th>MAX_TEMPERATURE_C</th>\n",
       "      <th>MIN_TEMPERATURE_C</th>\n",
       "      <th>WINDSPEED_MAX_KMH</th>\n",
       "      <th>TEMPERATURE_MORNING_C</th>\n",
       "      <th>TEMPERATURE_NOON_C</th>\n",
       "      <th>TEMPERATURE_EVENING_C</th>\n",
       "      <th>PRECIP_TOTAL_DAY_MM</th>\n",
       "      <th>HUMIDITY_MAX_PERCENT</th>\n",
       "      <th>VISIBILITY_AVG_KM</th>\n",
       "      <th>...</th>\n",
       "      <th>WINDTEMP_MAX_C</th>\n",
       "      <th>WEATHER_CODE_MORNING</th>\n",
       "      <th>WEATHER_CODE_NOON</th>\n",
       "      <th>WEATHER_CODE_EVENING</th>\n",
       "      <th>TOTAL_SNOW_MM</th>\n",
       "      <th>UV_INDEX</th>\n",
       "      <th>SUNHOUR</th>\n",
       "      <th>OPINION</th>\n",
       "      <th>MONTH</th>\n",
       "      <th>DAY</th>\n",
       "    </tr>\n",
       "  </thead>\n",
       "  <tbody>\n",
       "    <tr>\n",
       "      <th>0</th>\n",
       "      <td>2019-01-01</td>\n",
       "      <td>9</td>\n",
       "      <td>4</td>\n",
       "      <td>10</td>\n",
       "      <td>4</td>\n",
       "      <td>7</td>\n",
       "      <td>8</td>\n",
       "      <td>0.2</td>\n",
       "      <td>94</td>\n",
       "      <td>9.0</td>\n",
       "      <td>...</td>\n",
       "      <td>3</td>\n",
       "      <td>116</td>\n",
       "      <td>143</td>\n",
       "      <td>176</td>\n",
       "      <td>0</td>\n",
       "      <td>1</td>\n",
       "      <td>5.1</td>\n",
       "      <td>very bad</td>\n",
       "      <td>1</td>\n",
       "      <td>1</td>\n",
       "    </tr>\n",
       "    <tr>\n",
       "      <th>1</th>\n",
       "      <td>2019-01-02</td>\n",
       "      <td>8</td>\n",
       "      <td>5</td>\n",
       "      <td>18</td>\n",
       "      <td>7</td>\n",
       "      <td>7</td>\n",
       "      <td>5</td>\n",
       "      <td>0.0</td>\n",
       "      <td>90</td>\n",
       "      <td>9.0</td>\n",
       "      <td>...</td>\n",
       "      <td>3</td>\n",
       "      <td>119</td>\n",
       "      <td>116</td>\n",
       "      <td>116</td>\n",
       "      <td>0</td>\n",
       "      <td>1</td>\n",
       "      <td>8.7</td>\n",
       "      <td>very bad</td>\n",
       "      <td>1</td>\n",
       "      <td>2</td>\n",
       "    </tr>\n",
       "    <tr>\n",
       "      <th>2</th>\n",
       "      <td>2019-01-03</td>\n",
       "      <td>6</td>\n",
       "      <td>0</td>\n",
       "      <td>18</td>\n",
       "      <td>0</td>\n",
       "      <td>4</td>\n",
       "      <td>3</td>\n",
       "      <td>0.0</td>\n",
       "      <td>88</td>\n",
       "      <td>10.0</td>\n",
       "      <td>...</td>\n",
       "      <td>-4</td>\n",
       "      <td>116</td>\n",
       "      <td>116</td>\n",
       "      <td>116</td>\n",
       "      <td>0</td>\n",
       "      <td>1</td>\n",
       "      <td>8.7</td>\n",
       "      <td>very bad</td>\n",
       "      <td>1</td>\n",
       "      <td>3</td>\n",
       "    </tr>\n",
       "    <tr>\n",
       "      <th>3</th>\n",
       "      <td>2019-01-04</td>\n",
       "      <td>5</td>\n",
       "      <td>-1</td>\n",
       "      <td>15</td>\n",
       "      <td>-1</td>\n",
       "      <td>4</td>\n",
       "      <td>3</td>\n",
       "      <td>0.0</td>\n",
       "      <td>91</td>\n",
       "      <td>10.0</td>\n",
       "      <td>...</td>\n",
       "      <td>-4</td>\n",
       "      <td>116</td>\n",
       "      <td>116</td>\n",
       "      <td>122</td>\n",
       "      <td>0</td>\n",
       "      <td>1</td>\n",
       "      <td>5.1</td>\n",
       "      <td>very bad</td>\n",
       "      <td>1</td>\n",
       "      <td>4</td>\n",
       "    </tr>\n",
       "    <tr>\n",
       "      <th>4</th>\n",
       "      <td>2019-01-05</td>\n",
       "      <td>6</td>\n",
       "      <td>-1</td>\n",
       "      <td>8</td>\n",
       "      <td>-1</td>\n",
       "      <td>4</td>\n",
       "      <td>3</td>\n",
       "      <td>0.0</td>\n",
       "      <td>91</td>\n",
       "      <td>8.0</td>\n",
       "      <td>...</td>\n",
       "      <td>-2</td>\n",
       "      <td>143</td>\n",
       "      <td>116</td>\n",
       "      <td>116</td>\n",
       "      <td>0</td>\n",
       "      <td>1</td>\n",
       "      <td>8.7</td>\n",
       "      <td>very bad</td>\n",
       "      <td>1</td>\n",
       "      <td>5</td>\n",
       "    </tr>\n",
       "  </tbody>\n",
       "</table>\n",
       "<p>5 rows × 24 columns</p>\n",
       "</div>"
      ],
      "text/plain": [
       "         DATE  MAX_TEMPERATURE_C  MIN_TEMPERATURE_C  WINDSPEED_MAX_KMH  \\\n",
       "0  2019-01-01                  9                  4                 10   \n",
       "1  2019-01-02                  8                  5                 18   \n",
       "2  2019-01-03                  6                  0                 18   \n",
       "3  2019-01-04                  5                 -1                 15   \n",
       "4  2019-01-05                  6                 -1                  8   \n",
       "\n",
       "   TEMPERATURE_MORNING_C  TEMPERATURE_NOON_C  TEMPERATURE_EVENING_C  \\\n",
       "0                      4                   7                      8   \n",
       "1                      7                   7                      5   \n",
       "2                      0                   4                      3   \n",
       "3                     -1                   4                      3   \n",
       "4                     -1                   4                      3   \n",
       "\n",
       "   PRECIP_TOTAL_DAY_MM  HUMIDITY_MAX_PERCENT  VISIBILITY_AVG_KM  ...  \\\n",
       "0                  0.2                    94                9.0  ...   \n",
       "1                  0.0                    90                9.0  ...   \n",
       "2                  0.0                    88               10.0  ...   \n",
       "3                  0.0                    91               10.0  ...   \n",
       "4                  0.0                    91                8.0  ...   \n",
       "\n",
       "   WINDTEMP_MAX_C  WEATHER_CODE_MORNING  WEATHER_CODE_NOON  \\\n",
       "0               3                   116                143   \n",
       "1               3                   119                116   \n",
       "2              -4                   116                116   \n",
       "3              -4                   116                116   \n",
       "4              -2                   143                116   \n",
       "\n",
       "   WEATHER_CODE_EVENING  TOTAL_SNOW_MM  UV_INDEX  SUNHOUR   OPINION  MONTH  \\\n",
       "0                   176              0         1      5.1  very bad      1   \n",
       "1                   116              0         1      8.7  very bad      1   \n",
       "2                   116              0         1      8.7  very bad      1   \n",
       "3                   122              0         1      5.1  very bad      1   \n",
       "4                   116              0         1      8.7  very bad      1   \n",
       "\n",
       "   DAY  \n",
       "0    1  \n",
       "1    2  \n",
       "2    3  \n",
       "3    4  \n",
       "4    5  \n",
       "\n",
       "[5 rows x 24 columns]"
      ]
     },
     "execution_count": 3,
     "metadata": {},
     "output_type": "execute_result"
    }
   ],
   "source": [
    "import matplotlib.pyplot as plt\n",
    "import pandas as pd\n",
    "import numpy as np\n",
    "import seaborn as sns\n",
    "import plotly.express as px\n",
    "from sklearn.linear_model import LinearRegression\n",
    "link = \"https://raw.githubusercontent.com/murpi/wilddata/master/quests/weather2019.csv\"\n",
    "df_weather = pd.read_csv(link)\n",
    "df_weather.head()"
   ]
  },
  {
   "cell_type": "markdown",
   "metadata": {},
   "source": [
    "Last time, you did a multivariate linear regression. But how can you be sure this multivariate linear regression is better than an univariate ? You have to measure it !"
   ]
  },
  {
   "cell_type": "markdown",
   "metadata": {},
   "source": [
    "First regression\n",
    "Let's begin with a first linear regression : create a new column 'predict_from_sun' whith the prediction of MAX temperature from the SUNHOUR variable."
   ]
  },
  {
   "cell_type": "code",
   "execution_count": 15,
   "metadata": {},
   "outputs": [],
   "source": [
    "model_from_sun = LinearRegression()\n",
    "# X = df_weather[['SUNHOUR']]  # our explanatory variable (predictor)\n",
    "# y = df_weather['MAX_TEMPERATURE_C'] # our target\n",
    "model_from_sun.fit(df_weather[['SUNHOUR']], df_weather['MAX_TEMPERATURE_C'])\n",
    "\n",
    "# create a new column with our prediction\n",
    "df_weather['predict_from_sun'] = model_from_sun.predict(df_weather[['SUNHOUR']])"
   ]
  },
  {
   "cell_type": "markdown",
   "metadata": {},
   "source": [
    "R2 score\n",
    "The best possible R2 score is '1', when our prediction predicts perfectly the reality. Let's see what is our R2 score :"
   ]
  },
  {
   "cell_type": "code",
   "execution_count": 5,
   "metadata": {},
   "outputs": [
    {
     "data": {
      "text/plain": [
       "0.47654554059087306"
      ]
     },
     "execution_count": 5,
     "metadata": {},
     "output_type": "execute_result"
    }
   ],
   "source": [
    "model_from_sun.score(df_weather[['SUNHOUR']], df_weather['MAX_TEMPERATURE_C'])"
   ]
  },
  {
   "cell_type": "markdown",
   "metadata": {},
   "source": [
    "Let's continue with 2 others regressions\n",
    "Second regression : create a new column 'predict_from_min' whith the prediction of MAX temperature from the MIN temperature variable\n",
    "Third regression : create a new column 'predict_from_both' whith the prediction of MAX temperature from the both variables (MIN temperature and Sunhours)"
   ]
  },
  {
   "cell_type": "code",
   "execution_count": 6,
   "metadata": {},
   "outputs": [
    {
     "name": "stdout",
     "output_type": "stream",
     "text": [
      "R2 score from SUNHOUR: 0.47654554059087306\n",
      "R2 score from MIN_TEMPERATURE_C: 0.7689396999057355\n",
      "R2 score from both: 0.8674787980774968\n"
     ]
    }
   ],
   "source": [
    "# First regression\n",
    "reg = LinearRegression()\n",
    "reg.fit(df_weather[['SUNHOUR']], df_weather['MAX_TEMPERATURE_C'])\n",
    "df_weather['predict_from_sun'] = reg.predict(df_weather[['SUNHOUR']])\n",
    "\n",
    "# Second regression\n",
    "reg = LinearRegression()\n",
    "reg.fit(df_weather[['MIN_TEMPERATURE_C']], df_weather['MAX_TEMPERATURE_C'])\n",
    "df_weather['predict_from_min'] = reg.predict(df_weather[['MIN_TEMPERATURE_C']])\n",
    "\n",
    "# Third regression\n",
    "reg = LinearRegression()\n",
    "reg.fit(df_weather[['MIN_TEMPERATURE_C', 'SUNHOUR']], df_weather['MAX_TEMPERATURE_C'])\n",
    "df_weather['predict_from_both'] = reg.predict(df_weather[['MIN_TEMPERATURE_C', 'SUNHOUR']])\n",
    "\n",
    "# R2 score for each model\n",
    "X = df_weather[['SUNHOUR']]\n",
    "y = df_weather['MAX_TEMPERATURE_C']\n",
    "model_from_sun = LinearRegression().fit(X, y)\n",
    "r2_sun = model_from_sun.score(X, y)\n",
    "\n",
    "X = df_weather[['MIN_TEMPERATURE_C']]\n",
    "y = df_weather['MAX_TEMPERATURE_C']\n",
    "model_from_min = LinearRegression().fit(X, y)\n",
    "r2_min = model_from_min.score(X, y)\n",
    "\n",
    "X = df_weather[['MIN_TEMPERATURE_C', 'SUNHOUR']]\n",
    "y = df_weather['MAX_TEMPERATURE_C']\n",
    "model_from_both = LinearRegression().fit(X, y)\n",
    "r2_both = model_from_both.score(X, y)\n",
    "\n",
    "print(\"R2 score from SUNHOUR:\", r2_sun)\n",
    "print(\"R2 score from MIN_TEMPERATURE_C:\", r2_min)\n",
    "print(\"R2 score from both:\", r2_both)"
   ]
  },
  {
   "cell_type": "markdown",
   "metadata": {},
   "source": [
    "# model_from_both has a better score than model_from_min,\n",
    "# this makes sense as model_from_both is fitted with more explanatory variables than model_from_min."
   ]
  },
  {
   "cell_type": "markdown",
   "metadata": {},
   "source": [
    "Calculate the R2 score of the 2 new predictions\n",
    "Be careful : if you still use the same \"X\" name, you will overwrite it.\n",
    "\n",
    "Which model has the best score ? Do you think it's logical ?"
   ]
  },
  {
   "cell_type": "code",
   "execution_count": 7,
   "metadata": {},
   "outputs": [
    {
     "name": "stdout",
     "output_type": "stream",
     "text": [
      "R2 score from MIN_TEMPERATURE_C: 0.7689396999057355\n",
      "R2 score from both: 0.8674787980774968\n"
     ]
    }
   ],
   "source": [
    "# Second regression\n",
    "X = df_weather[['MIN_TEMPERATURE_C']]\n",
    "y = df_weather['MAX_TEMPERATURE_C']\n",
    "model_from_min = LinearRegression().fit(X, y)\n",
    "r2_min = model_from_min.score(X, y)\n",
    "\n",
    "# Third regression\n",
    "X = df_weather[['MIN_TEMPERATURE_C', 'SUNHOUR']]\n",
    "y = df_weather['MAX_TEMPERATURE_C']\n",
    "model_from_both = LinearRegression().fit(X, y)\n",
    "r2_both = model_from_both.score(X, y)\n",
    "\n",
    "print(\"R2 score from MIN_TEMPERATURE_C:\", r2_min)\n",
    "print(\"R2 score from both:\", r2_both)"
   ]
  },
  {
   "cell_type": "markdown",
   "metadata": {},
   "source": [
    "Train Test Split\n",
    "One of biggest problems of Machine learning is : overfitting.\n",
    "\n",
    "To be sure that machine didn't memorize the result, we use the Train Test Split methodology. We keep some data separate (often 25% of our initial dataset). Then we train our model on the 75% (the \"Train set\"). After, we can calculate a score on the \"Test set\"."
   ]
  },
  {
   "cell_type": "code",
   "execution_count": 8,
   "metadata": {},
   "outputs": [
    {
     "name": "stdout",
     "output_type": "stream",
     "text": [
      "The length of the initial dataset is : 365\n",
      "The length of the train dataset is   : 273\n",
      "The length of the test dataset is    : 92\n",
      "\n",
      "Score for the Train dataset : 0.47243569075679914\n",
      "Score for the Test dataset : 0.4749360350733982\n"
     ]
    }
   ],
   "source": [
    "from sklearn.model_selection import train_test_split\n",
    "\n",
    "X = df_weather[['SUNHOUR']]\n",
    "y = df_weather['MAX_TEMPERATURE_C']\n",
    "\n",
    "# Here, we split our 2 datasets (the variables \"X\" and the target \"y\") into 4 datasets X and y for the train set and X and y for the test set.\n",
    "# We set the size of the train set to 75%. And the rest is for the test set.\n",
    "X_train, X_test, y_train, y_test = train_test_split(X, y, random_state=42, train_size = 0.75)\n",
    "print(\"The length of the initial dataset is :\", len(X))\n",
    "print(\"The length of the train dataset is   :\", len(X_train))\n",
    "print(\"The length of the test dataset is    :\", len(X_test))\n",
    "\n",
    "# Here we train the model only on the train dataset.\n",
    "newmodel = LinearRegression().fit(X_train, y_train)\n",
    "\n",
    "# And now we compare both scores :\n",
    "print(\"\\nScore for the Train dataset :\", newmodel.score(X_train, y_train))\n",
    "print(\"Score for the Test dataset :\", newmodel.score(X_test, y_test))"
   ]
  },
  {
   "cell_type": "markdown",
   "metadata": {},
   "source": [
    "Both scores are very close, there is no overfitting, well done !\n",
    "What happens if we don't randomize our dataset. Here, the model learns only on the 9 first months."
   ]
  },
  {
   "cell_type": "code",
   "execution_count": 9,
   "metadata": {},
   "outputs": [
    {
     "name": "stdout",
     "output_type": "stream",
     "text": [
      "\n",
      "Score for the Train dataset : 0.7875765302008688\n",
      "Score for the Test dataset : 0.03610833322378593\n"
     ]
    }
   ],
   "source": [
    "# Juste read and execute the code below\n",
    "from sklearn.model_selection import train_test_split\n",
    "\n",
    "X = df_weather[['MIN_TEMPERATURE_C']]\n",
    "y = df_weather['MAX_TEMPERATURE_C']\n",
    "\n",
    "# We set the size of the train set to 75%. And the rest is for the test set.\n",
    "# We set the split NOT in random.\n",
    "X_train, X_test, y_train, y_test = train_test_split(X, y, train_size = 0.75, shuffle = False)\n",
    "\n",
    "\n",
    "# Here we train the model only on the train dataset.\n",
    "newmodel = LinearRegression().fit(X_train, y_train)\n",
    "\n",
    "# And now we compare both scores :\n",
    "print(\"\\nScore for the Train dataset :\", newmodel.score(X_train, y_train))\n",
    "print(\"Score for the Test dataset :\", newmodel.score(X_test, y_test))"
   ]
  },
  {
   "cell_type": "markdown",
   "metadata": {},
   "source": [
    "There is an overfitting !\n",
    "Indeed, the model get a good score on the Train dataset, because he learned in winter / spring / summer datas. But he gets a bad score in Falls..."
   ]
  },
  {
   "cell_type": "markdown",
   "metadata": {},
   "source": [
    "Let's play !\n",
    "Train a new model with all numeric variables (without your target of course) and try to have a better score than previously.\n",
    "\n",
    "Remember to split randomly your dataset before training your model.\n",
    "\n",
    "Display the Test score."
   ]
  },
  {
   "cell_type": "code",
   "execution_count": 11,
   "metadata": {},
   "outputs": [
    {
     "name": "stdout",
     "output_type": "stream",
     "text": [
      "Test score: 0.9953728575100915\n"
     ]
    }
   ],
   "source": [
    "import matplotlib.pyplot as plt\n",
    "import pandas as pd\n",
    "import numpy as np\n",
    "import seaborn as sns\n",
    "import plotly.express as px\n",
    "from sklearn.linear_model import LinearRegression\n",
    "from sklearn.model_selection import train_test_split\n",
    "\n",
    "# Read the data\n",
    "link = \"https://raw.githubusercontent.com/murpi/wilddata/master/quests/weather2019.csv\"\n",
    "df_weather = pd.read_csv(link)\n",
    "\n",
    "# Select numeric variables\n",
    "numeric_variables = df_weather.select_dtypes(include=[\"int64\", \"float64\"])\n",
    "numeric_variables = numeric_variables.drop(\"MAX_TEMPERATURE_C\", axis=1)\n",
    "\n",
    "# Split the data into train and test sets\n",
    "X_train, X_test, y_train, y_test = train_test_split(numeric_variables, df_weather[\"MAX_TEMPERATURE_C\"], random_state=42, train_size=0.75)\n",
    "\n",
    "# Train the model\n",
    "model = LinearRegression().fit(X_train, y_train)\n",
    "\n",
    "# Evaluate the model on the test set\n",
    "test_score = model.score(X_test, y_test)\n",
    "\n",
    "# Print the test score\n",
    "print(\"Test score:\", test_score)"
   ]
  }
 ],
 "metadata": {
  "kernelspec": {
   "display_name": "Python 3",
   "language": "python",
   "name": "python3"
  },
  "language_info": {
   "codemirror_mode": {
    "name": "ipython",
    "version": 3
   },
   "file_extension": ".py",
   "mimetype": "text/x-python",
   "name": "python",
   "nbconvert_exporter": "python",
   "pygments_lexer": "ipython3",
   "version": "3.9.10"
  }
 },
 "nbformat": 4,
 "nbformat_minor": 2
}
